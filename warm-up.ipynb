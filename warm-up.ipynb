{
 "cells": [
  {
   "cell_type": "markdown",
   "metadata": {},
   "source": [
    "## TASK 1"
   ]
  },
  {
   "cell_type": "code",
   "execution_count": 2,
   "metadata": {},
   "outputs": [
    {
     "data": {
      "text/html": [
       "<div>\n",
       "<style scoped>\n",
       "    .dataframe tbody tr th:only-of-type {\n",
       "        vertical-align: middle;\n",
       "    }\n",
       "\n",
       "    .dataframe tbody tr th {\n",
       "        vertical-align: top;\n",
       "    }\n",
       "\n",
       "    .dataframe thead th {\n",
       "        text-align: right;\n",
       "    }\n",
       "</style>\n",
       "<table border=\"1\" class=\"dataframe\">\n",
       "  <thead>\n",
       "    <tr style=\"text-align: right;\">\n",
       "      <th></th>\n",
       "      <th>x</th>\n",
       "      <th>y</th>\n",
       "    </tr>\n",
       "  </thead>\n",
       "  <tbody>\n",
       "    <tr>\n",
       "      <th>0</th>\n",
       "      <td>10.529</td>\n",
       "      <td>39.105</td>\n",
       "    </tr>\n",
       "    <tr>\n",
       "      <th>1</th>\n",
       "      <td>10.799</td>\n",
       "      <td>40.584</td>\n",
       "    </tr>\n",
       "    <tr>\n",
       "      <th>2</th>\n",
       "      <td>11.698</td>\n",
       "      <td>39.883</td>\n",
       "    </tr>\n",
       "    <tr>\n",
       "      <th>3</th>\n",
       "      <td>12.851</td>\n",
       "      <td>39.411</td>\n",
       "    </tr>\n",
       "    <tr>\n",
       "      <th>4</th>\n",
       "      <td>13.565</td>\n",
       "      <td>40.760</td>\n",
       "    </tr>\n",
       "  </tbody>\n",
       "</table>\n",
       "</div>"
      ],
      "text/plain": [
       "        x       y\n",
       "0  10.529  39.105\n",
       "1  10.799  40.584\n",
       "2  11.698  39.883\n",
       "3  12.851  39.411\n",
       "4  13.565  40.760"
      ]
     },
     "execution_count": 2,
     "metadata": {},
     "output_type": "execute_result"
    }
   ],
   "source": [
    "import pandas as pd\n",
    "#loading data\n",
    "data_df = pd.read_csv('/home/xavier/exts-ida/course3/warm-up/task-1.csv')\n",
    "data_df.head()"
   ]
  },
  {
   "cell_type": "code",
   "execution_count": 3,
   "metadata": {},
   "outputs": [],
   "source": [
    "x = data_df.x.values\n",
    "y = data_df.y.values"
   ]
  },
  {
   "cell_type": "markdown",
   "metadata": {},
   "source": [
    "fitting the equation using polyfit() and print a,b parameters"
   ]
  },
  {
   "cell_type": "code",
   "execution_count": 4,
   "metadata": {},
   "outputs": [
    {
     "name": "stdout",
     "output_type": "stream",
     "text": [
      "a: 3.3902409977138\n",
      "b: 31.52920121929613\n"
     ]
    }
   ],
   "source": [
    "import numpy as np\n",
    "\n",
    "coefs = np.polyfit(np.log(x), y, deg=1)\n",
    "\n",
    "# Extract a,b values\n",
    "a, b = coefs\n",
    "\n",
    "print('a:', a) \n",
    "print('b:', b)"
   ]
  },
  {
   "cell_type": "code",
   "execution_count": 6,
   "metadata": {},
   "outputs": [
    {
     "data": {
      "image/png": "[encoded data removed]",
      "text/plain": [
       "<matplotlib.figure.Figure at 0xa9ff2c0c>"
      ]
     },
     "metadata": {},
     "output_type": "display_data"
    }
   ],
   "source": [
    "%matplotlib inline\n",
    "import matplotlib.pyplot as plt\n",
    "\n",
    "# Import Seaborn library\n",
    "import seaborn as sns\n",
    "\n",
    "# Set style to Seaborn\n",
    "sns.set()\n",
    "\n",
    "# Compute the associated y values\n",
    "y_values = a*np.log(x) + b\n",
    "\n",
    "# Plot the line\n",
    "plt.scatter(x, y, label=None)\n",
    "plt.plot(x, y_values, color='red', label='polyfit(deg=1)')\n",
    "plt.legend()\n",
    "plt.show()"
   ]
  },
  {
   "cell_type": "markdown",
   "metadata": {},
   "source": [
    "Computing and printing the R2 coefficient using numpy"
   ]
  },
  {
   "cell_type": "code",
   "execution_count": 8,
   "metadata": {},
   "outputs": [
    {
     "name": "stdout",
     "output_type": "stream",
     "text": [
      "R² is: 0.8592733574838715\n"
     ]
    }
   ],
   "source": [
    "corr_matrix = np.corrcoef(x,y_values)\n",
    "corr_xy = corr_matrix[0,1]\n",
    "r_squared = corr_xy**2\n",
    "print('R² is:',r_squared)"
   ]
  },
  {
   "cell_type": "markdown",
   "metadata": {},
   "source": [
    "Explaining how the polyfit() function finds the optimal parameters"
   ]
  },
  {
   "cell_type": "markdown",
   "metadata": {},
   "source": [
    "polyfit() function fits a polynomial to a set of x/y points,it means that it tries to model relationship between these two variables with a polynomial equation.<br>The most famous polynomial equation is: y = a+b.It involves a slope a and an intercept term b."
   ]
  },
  {
   "cell_type": "markdown",
   "metadata": {},
   "source": [
    "Difference between polyfit() function and the gradient descent one"
   ]
  },
  {
   "cell_type": "markdown",
   "metadata": {},
   "source": [
    "Least squares is a special case of an optimization problem. The objective function is the sum of the squared distances.The solution can be found analytically.<br>\n",
    "Gradient descent is an algorithm to construct the solution of an optimization problem approximately. The benefit is that it can be applied to any objective function, not just squared distances.<br>\n",
    "So if we find the least square result unconvincing, squared distances are maybe not the adequate objective function for your problem. If we find an alternative one, gradient descent is a way to obtain at least a locally optimal solution."
   ]
  },
  {
   "cell_type": "markdown",
   "metadata": {},
   "source": [
    "## TASK 2"
   ]
  },
  {
   "cell_type": "code",
   "execution_count": 9,
   "metadata": {},
   "outputs": [
    {
     "data": {
      "text/html": [
       "<div>\n",
       "<style scoped>\n",
       "    .dataframe tbody tr th:only-of-type {\n",
       "        vertical-align: middle;\n",
       "    }\n",
       "\n",
       "    .dataframe tbody tr th {\n",
       "        vertical-align: top;\n",
       "    }\n",
       "\n",
       "    .dataframe thead th {\n",
       "        text-align: right;\n",
       "    }\n",
       "</style>\n",
       "<table border=\"1\" class=\"dataframe\">\n",
       "  <thead>\n",
       "    <tr style=\"text-align: right;\">\n",
       "      <th></th>\n",
       "      <th>x1</th>\n",
       "      <th>x2</th>\n",
       "      <th>x3</th>\n",
       "      <th>y</th>\n",
       "    </tr>\n",
       "  </thead>\n",
       "  <tbody>\n",
       "    <tr>\n",
       "      <th>0</th>\n",
       "      <td>7.892</td>\n",
       "      <td>318.818</td>\n",
       "      <td>162.970</td>\n",
       "      <td>2112.420</td>\n",
       "    </tr>\n",
       "    <tr>\n",
       "      <th>1</th>\n",
       "      <td>8.830</td>\n",
       "      <td>303.180</td>\n",
       "      <td>181.399</td>\n",
       "      <td>2096.231</td>\n",
       "    </tr>\n",
       "    <tr>\n",
       "      <th>2</th>\n",
       "      <td>13.811</td>\n",
       "      <td>296.231</td>\n",
       "      <td>145.849</td>\n",
       "      <td>2067.045</td>\n",
       "    </tr>\n",
       "    <tr>\n",
       "      <th>3</th>\n",
       "      <td>12.863</td>\n",
       "      <td>325.830</td>\n",
       "      <td>167.996</td>\n",
       "      <td>2269.262</td>\n",
       "    </tr>\n",
       "    <tr>\n",
       "      <th>4</th>\n",
       "      <td>13.698</td>\n",
       "      <td>254.035</td>\n",
       "      <td>171.892</td>\n",
       "      <td>1966.604</td>\n",
       "    </tr>\n",
       "  </tbody>\n",
       "</table>\n",
       "</div>"
      ],
      "text/plain": [
       "       x1       x2       x3         y\n",
       "0   7.892  318.818  162.970  2112.420\n",
       "1   8.830  303.180  181.399  2096.231\n",
       "2  13.811  296.231  145.849  2067.045\n",
       "3  12.863  325.830  167.996  2269.262\n",
       "4  13.698  254.035  171.892  1966.604"
      ]
     },
     "execution_count": 9,
     "metadata": {},
     "output_type": "execute_result"
    }
   ],
   "source": [
    "import pandas as pd\n",
    "#loading data\n",
    "data_df = pd.read_csv('/home/xavier/exts-ida/course3/warm-up/task-2.csv')\n",
    "data_df.head()"
   ]
  },
  {
   "cell_type": "markdown",
   "metadata": {},
   "source": [
    "Fitting linear regression without removing the outliers.Printing the mean absolute error (MAE) on the test set"
   ]
  },
  {
   "cell_type": "code",
   "execution_count": 13,
   "metadata": {},
   "outputs": [],
   "source": [
    "cols=['x1','x2','x3']\n",
    "X_poly = data_df[cols]\n",
    "y = data_df.y.values"
   ]
  },
  {
   "cell_type": "code",
   "execution_count": 14,
   "metadata": {},
   "outputs": [
    {
     "name": "stdout",
     "output_type": "stream",
     "text": [
      "Train set: (800, 4) (800,)\n",
      "Test set: (200, 4) (200,)\n"
     ]
    }
   ],
   "source": [
    "from sklearn.model_selection import train_test_split\n",
    "import numpy as np\n",
    "\n",
    "# Split intro train/test sets\n",
    "X_tr, X_te, y_tr, y_te = train_test_split(\n",
    "    data_df, y, train_size=0.8, test_size=0.2, random_state=0)\n",
    "\n",
    "print('Train set:', X_tr.shape, y_tr.shape)\n",
    "print('Test set:', X_te.shape, y_te.shape)"
   ]
  },
  {
   "cell_type": "code",
   "execution_count": 15,
   "metadata": {},
   "outputs": [],
   "source": [
    "# Mean absolute error (MAE)\n",
    "def MAE(y, y_pred):\n",
    "    return np.mean(np.abs(y - y_pred))"
   ]
  },
  {
   "cell_type": "code",
   "execution_count": 17,
   "metadata": {},
   "outputs": [
    {
     "name": "stdout",
     "output_type": "stream",
     "text": [
      "Linear regression - MAE test: 3.410605131648481e-14\n"
     ]
    }
   ],
   "source": [
    "from sklearn.linear_model import LinearRegression  #, Ridge\n",
    "from sklearn.metrics import mean_squared_error as mse\n",
    "\n",
    "# Fit a linear regression\n",
    "lr = LinearRegression()\n",
    "lr.fit(X_tr, y_tr)\n",
    "print('Linear regression - MAE test:',MAE(y_te, lr.predict(X_te)))"
   ]
  },
  {
   "cell_type": "markdown",
   "metadata": {},
   "source": [
    "Removing the outliers and comparing the results of MAE"
   ]
  },
  {
   "cell_type": "code",
   "execution_count": 18,
   "metadata": {},
   "outputs": [],
   "source": [
    "# (B) Remove outliers\n",
    "# Compute z-scores\n",
    "z_scores = (y_tr - np.mean(y_tr)) / np.std(y_tr)"
   ]
  },
  {
   "cell_type": "code",
   "execution_count": 20,
   "metadata": {},
   "outputs": [],
   "source": [
    "# Detect \"extreme\" data points\n",
    "# 2 standard deviations away form the mean\n",
    "idx = np.abs(z_scores) < 2 \n",
    "\n",
    "# Remove them\n",
    "x_tr2, y_tr2 = X_tr[idx], y_tr[idx]"
   ]
  },
  {
   "cell_type": "code",
   "execution_count": 22,
   "metadata": {},
   "outputs": [
    {
     "name": "stdout",
     "output_type": "stream",
     "text": [
      "Linear regression - MAE test: 3.637978807091713e-14\n"
     ]
    }
   ],
   "source": [
    "# Fit a linear regression\n",
    "lr = LinearRegression()\n",
    "lr.fit(x_tr2, y_tr2)\n",
    "print('Linear regression - MAE test:',MAE(y_te, lr.predict(X_te)))"
   ]
  },
  {
   "cell_type": "markdown",
   "metadata": {},
   "source": [
    "Computing linear regression with huber loss on data with outliers"
   ]
  },
  {
   "cell_type": "code",
   "execution_count": 26,
   "metadata": {},
   "outputs": [
    {
     "name": "stdout",
     "output_type": "stream",
     "text": [
      "MAE Huber:  2.164979892995689e-06\n"
     ]
    }
   ],
   "source": [
    "from sklearn.linear_model import HuberRegressor\n",
    "\n",
    "# Huber loss\n",
    "huber = HuberRegressor(epsilon=1.45)   \n",
    "huber.fit(X_tr, y_tr) # Fit to train data\n",
    "y_pred_huber = huber.predict(X_te), # Predictions for test data\n",
    "    \n",
    "mae_huber = MAE(y_te, y_pred_huber)\n",
    "print('MAE Huber: ',mae_huber)"
   ]
  },
  {
   "cell_type": "code",
   "execution_count": null,
   "metadata": {},
   "outputs": [],
   "source": []
  },
  {
   "cell_type": "markdown",
   "metadata": {},
   "source": [
    "## TASK 3"
   ]
  },
  {
   "cell_type": "code",
   "execution_count": null,
   "metadata": {},
   "outputs": [],
   "source": []
  },
  {
   "cell_type": "code",
   "execution_count": 89,
   "metadata": {},
   "outputs": [
    {
     "data": {
      "text/html": [
       "<div>\n",
       "<style scoped>\n",
       "    .dataframe tbody tr th:only-of-type {\n",
       "        vertical-align: middle;\n",
       "    }\n",
       "\n",
       "    .dataframe tbody tr th {\n",
       "        vertical-align: top;\n",
       "    }\n",
       "\n",
       "    .dataframe thead th {\n",
       "        text-align: right;\n",
       "    }\n",
       "</style>\n",
       "<table border=\"1\" class=\"dataframe\">\n",
       "  <thead>\n",
       "    <tr style=\"text-align: right;\">\n",
       "      <th></th>\n",
       "      <th>x</th>\n",
       "      <th>y</th>\n",
       "    </tr>\n",
       "  </thead>\n",
       "  <tbody>\n",
       "    <tr>\n",
       "      <th>0</th>\n",
       "      <td>3.588</td>\n",
       "      <td>0.473</td>\n",
       "    </tr>\n",
       "    <tr>\n",
       "      <th>1</th>\n",
       "      <td>3.551</td>\n",
       "      <td>0.784</td>\n",
       "    </tr>\n",
       "    <tr>\n",
       "      <th>2</th>\n",
       "      <td>3.610</td>\n",
       "      <td>0.847</td>\n",
       "    </tr>\n",
       "    <tr>\n",
       "      <th>3</th>\n",
       "      <td>3.704</td>\n",
       "      <td>0.904</td>\n",
       "    </tr>\n",
       "    <tr>\n",
       "      <th>4</th>\n",
       "      <td>3.716</td>\n",
       "      <td>1.118</td>\n",
       "    </tr>\n",
       "  </tbody>\n",
       "</table>\n",
       "</div>"
      ],
      "text/plain": [
       "       x      y\n",
       "0  3.588  0.473\n",
       "1  3.551  0.784\n",
       "2  3.610  0.847\n",
       "3  3.704  0.904\n",
       "4  3.716  1.118"
      ]
     },
     "execution_count": 89,
     "metadata": {},
     "output_type": "execute_result"
    }
   ],
   "source": [
    "import pandas as pd\n",
    "#loading data\n",
    "data_df = pd.read_csv('/home/xavier/exts-ida/course3/warm-up/task-3.csv')\n",
    "data_df.head()"
   ]
  },
  {
   "cell_type": "code",
   "execution_count": 49,
   "metadata": {},
   "outputs": [],
   "source": [
    "X = data_df.x.values\n",
    "y = data_df.y.values"
   ]
  },
  {
   "cell_type": "markdown",
   "metadata": {},
   "source": [
    "Splitting data into 50-50 train/test sets using train_test_split()"
   ]
  },
  {
   "cell_type": "code",
   "execution_count": 90,
   "metadata": {},
   "outputs": [],
   "source": [
    "from sklearn.model_selection import train_test_split\n",
    "import numpy as np\n",
    "\n",
    "# Split intro train/test sets\n",
    "X_tr, X_te, y_tr, y_te = train_test_split(\n",
    "    X, y, train_size=0.5, test_size=0.5, random_state=0)"
   ]
  },
  {
   "cell_type": "markdown",
   "metadata": {},
   "source": [
    "Fitting a polynomial of degree 10 to the train set"
   ]
  },
  {
   "cell_type": "code",
   "execution_count": 96,
   "metadata": {},
   "outputs": [
    {
     "data": {
      "text/plain": [
       "(25,)"
      ]
     },
     "execution_count": 96,
     "metadata": {},
     "output_type": "execute_result"
    }
   ],
   "source": [
    "#X_tr.shape\n",
    "y_tr.shape"
   ]
  },
  {
   "cell_type": "code",
   "execution_count": 63,
   "metadata": {},
   "outputs": [],
   "source": [
    "import numpy as np\n",
    "\n",
    "# (A) Fit a polynomial\n",
    "coefs = np.polyfit(X_tr, y_tr, deg=10)\n",
    "\n",
    "# (B) Print coefficients\n",
    "#print('Coefficients:', coefs)\n",
    "\n",
    "# (C) Plot the polynomial\n",
    "# Generate a hundred data points between min(x) and max(x)\n",
    "#x_values = np.linspace(min(x), max(x), num=100)\n",
    "\n",
    "# Compute predictions for these sample data points\n",
    "y_values_te = np.polyval(coefs, X_te)\n",
    "y_values_tr = np.polyval(coefs, X_tr)"
   ]
  },
  {
   "cell_type": "code",
   "execution_count": 64,
   "metadata": {},
   "outputs": [],
   "source": [
    "# Compute the squares of residuals\n",
    "squares_residuals_te = np.square(y_te - y_values_te)\n",
    "squares_residuals_tr = np.square(y_tr - y_values_tr)"
   ]
  },
  {
   "cell_type": "code",
   "execution_count": 65,
   "metadata": {},
   "outputs": [],
   "source": [
    "rss_te = np.sum(squares_residuals_te)\n",
    "rss_tr = np.sum(squares_residuals_tr)"
   ]
  },
  {
   "cell_type": "code",
   "execution_count": 66,
   "metadata": {},
   "outputs": [
    {
     "name": "stdout",
     "output_type": "stream",
     "text": [
      "RSS test: 1.3970410623827785\n",
      "------------\n",
      "RSS train: 0.6368278120019941\n"
     ]
    }
   ],
   "source": [
    "print('RSS test:',rss_te)\n",
    "print('------------')\n",
    "print('RSS train:',rss_tr)"
   ]
  },
  {
   "cell_type": "markdown",
   "metadata": {},
   "source": [
    "Plotting model with 50 data points"
   ]
  },
  {
   "cell_type": "code",
   "execution_count": 76,
   "metadata": {},
   "outputs": [
    {
     "data": {
      "image/png": "[encoded data removed]",
      "text/plain": [
       "<matplotlib.figure.Figure at 0xa85b302c>"
      ]
     },
     "metadata": {
      "needs_background": "light"
     },
     "output_type": "display_data"
    }
   ],
   "source": [
    "%matplotlib inline\n",
    "import matplotlib.pyplot as plt\n",
    "\n",
    "# (A) Fit a polynomial\n",
    "#coefs_all = np.polyfit(X, y, deg=3)\n",
    "\n",
    "plt.scatter(X, y)# s=10)\n",
    "y_values = np.polyval(coefs,X)\n",
    "plt.plot(X, y_values, label='linear regression')\n",
    "plt.legend()\n",
    "plt.show()"
   ]
  },
  {
   "cell_type": "markdown",
   "metadata": {},
   "source": [
    "Applying regularization using ridge regression"
   ]
  },
  {
   "cell_type": "code",
   "execution_count": 105,
   "metadata": {},
   "outputs": [],
   "source": [
    "X_tr = X_tr.reshape(-1,1)\n",
    "y_tr = y_tr.reshape(-1,1)\n",
    "\n",
    "X_te = X_te.reshape(-1,1)\n",
    "y_te = y_te.reshape(-1,1)\n",
    "\n",
    "X = X.reshape(-1,1)\n",
    "y = y.reshape(-1,1)"
   ]
  },
  {
   "cell_type": "code",
   "execution_count": 114,
   "metadata": {},
   "outputs": [
    {
     "data": {
      "image/png": "[encoded data removed]",
      "text/plain": [
       "<matplotlib.figure.Figure at 0xa858c38c>"
      ]
     },
     "metadata": {
      "needs_background": "light"
     },
     "output_type": "display_data"
    }
   ],
   "source": [
    "from sklearn.linear_model import LinearRegression, Ridge\n",
    "from sklearn.metrics import mean_squared_error as mse\n",
    "\n",
    "# Define a set of alpha values\n",
    "alphas = np.logspace(-10, 0, num=100)\n",
    "\n",
    "# Save train/test scores\n",
    "train_scores = []\n",
    "test_scores = []\n",
    "p_scores = []\n",
    "\n",
    "# Grid search\n",
    "for alpha in alphas:\n",
    "    # Ridge regression\n",
    "    ridge = Ridge(alpha)\n",
    "    ridge.fit(X, y)\n",
    "    \n",
    "    # Train score\n",
    "    y_pred = ridge.predict(X_tr)\n",
    "    train_scores.append(mse(y_tr, y_pred))\n",
    "    \n",
    "    # Test score\n",
    "    y_pred = ridge.predict(X_te)\n",
    "    test_scores.append(mse(y_te, y_pred))\n",
    "    \n",
    "    #data score\n",
    "    y_p = ridge.predict(X)\n",
    "    p_scores.append(mse(y, y_p))\n",
    "    \n",
    "# Plot validation curves\n",
    "plt.semilogx(alphas, train_scores, label='train curve')\n",
    "plt.semilogx(alphas, test_scores, label='test curve')\n",
    "plt.legend()\n",
    "plt.show()"
   ]
  },
  {
   "cell_type": "code",
   "execution_count": 136,
   "metadata": {},
   "outputs": [
    {
     "name": "stdout",
     "output_type": "stream",
     "text": [
      "Best alpha 1.3e-10\n",
      "Ridge regression 2 - MSE train: 0.289 test: 0.323\n"
     ]
    }
   ],
   "source": [
    "# Find best alpha\n",
    "idx = np.argmin(p_scores)\n",
    "best_alpha = alphas[idx]\n",
    "print('Best alpha {:.1e}'.format(best_alpha))\n",
    "\n",
    "# Print train/test scores\n",
    "print('Ridge regression  - MSE train: {:,.3f} test: {:,.3f}'.format(\n",
    "    train_scores[idx],\n",
    "    test_scores[idx]\n",
    "))"
   ]
  },
  {
   "cell_type": "markdown",
   "metadata": {},
   "source": [
    "Computing the train/test RSS of the tuned ridge regression"
   ]
  },
  {
   "cell_type": "code",
   "execution_count": 126,
   "metadata": {},
   "outputs": [
    {
     "data": {
      "text/plain": [
       "Ridge(alpha=1.2618568830660183e-10, copy_X=True, fit_intercept=True,\n",
       "   max_iter=None, normalize=False, random_state=None, solver='auto',\n",
       "   tol=0.001)"
      ]
     },
     "execution_count": 126,
     "metadata": {},
     "output_type": "execute_result"
    }
   ],
   "source": [
    "# Ridge regression with tuned alpha\n",
    "ridge2 = Ridge(best_alpha)\n",
    "ridge2.fit(X, y)\n"
   ]
  },
  {
   "cell_type": "code",
   "execution_count": 127,
   "metadata": {},
   "outputs": [],
   "source": [
    "y_values_te = ridge2.predict(X_te)\n",
    "y_values_tr = ridge2.predict(X_tr)"
   ]
  },
  {
   "cell_type": "code",
   "execution_count": 128,
   "metadata": {},
   "outputs": [],
   "source": [
    "squares_residuals_te = np.square(y_te - y_values_te)\n",
    "squares_residuals_tr = np.square(y_tr - y_values_tr)"
   ]
  },
  {
   "cell_type": "code",
   "execution_count": 129,
   "metadata": {},
   "outputs": [],
   "source": [
    "rss_te = np.sum(squares_residuals_te)\n",
    "rss_tr = np.sum(squares_residuals_tr)"
   ]
  },
  {
   "cell_type": "code",
   "execution_count": 130,
   "metadata": {},
   "outputs": [
    {
     "name": "stdout",
     "output_type": "stream",
     "text": [
      "RSS test: 8.067775252918937\n",
      "------------\n",
      "RSS train: 7.217859544768098\n"
     ]
    }
   ],
   "source": [
    "print('RSS test:',rss_te)\n",
    "print('------------')\n",
    "print('RSS train:',rss_tr)"
   ]
  }
 ],
 "metadata": {
  "kernelspec": {
   "display_name": "Python 3",
   "language": "python",
   "name": "python3"
  },
  "language_info": {
   "codemirror_mode": {
    "name": "ipython",
    "version": 3
   },
   "file_extension": ".py",
   "mimetype": "text/x-python",
   "name": "python",
   "nbconvert_exporter": "python",
   "pygments_lexer": "ipython3",
   "version": "3.6.4"
  }
 },
 "nbformat": 4,
 "nbformat_minor": 4
}
